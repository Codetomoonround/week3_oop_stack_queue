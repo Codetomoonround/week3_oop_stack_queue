{
  "nbformat": 4,
  "nbformat_minor": 0,
  "metadata": {
    "colab": {
      "provenance": [],
      "authorship_tag": "ABX9TyPBdTDXxmGnzABBUPul+rfO",
      "include_colab_link": true
    },
    "kernelspec": {
      "name": "python3",
      "display_name": "Python 3"
    },
    "language_info": {
      "name": "python"
    }
  },
  "cells": [
    {
      "cell_type": "markdown",
      "metadata": {
        "id": "view-in-github",
        "colab_type": "text"
      },
      "source": [
        "<a href=\"https://colab.research.google.com/github/Codetomoonround/week3_oop_stack_queue/blob/main/Exercise_week3.ipynb\" target=\"_parent\"><img src=\"https://colab.research.google.com/assets/colab-badge.svg\" alt=\"Open In Colab\"/></a>"
      ]
    },
    {
      "cell_type": "code",
      "execution_count": null,
      "metadata": {
        "colab": {
          "base_uri": "https://localhost:8080/"
        },
        "id": "QIXsRH_zHN4B",
        "outputId": "d1547736-bbfe-421c-dd39-612f39a8bd1b"
      },
      "outputs": [
        {
          "output_type": "stream",
          "name": "stdout",
          "text": [
            "tensor([0.9933, 0.9526])\n"
          ]
        }
      ],
      "source": [
        "import torch\n",
        "\n",
        "# input data\n",
        "x = torch.tensor([5.0, 3.0])\n",
        "\n",
        "# sigmoid function\n",
        "output = torch.sigmoid(x)\n",
        "print(output)\n"
      ]
    },
    {
      "cell_type": "code",
      "source": [
        "import torch\n",
        "import torch.nn as nn\n",
        "\n",
        "class MySigmoid(nn.Module):\n",
        "    def __init__(self):\n",
        "      super().__init__()\n",
        "\n",
        "    def forward(self, x):\n",
        "      return 1/(1 + torch.exp(-x))\n",
        "\n",
        " ### Your Code Here\n",
        "\n",
        " ### End Code Here\n",
        "\n",
        "data = torch.Tensor([3, -2])\n",
        "my_sigmoid = MySigmoid()\n",
        "output = my_sigmoid(data)\n",
        "output"
      ],
      "metadata": {
        "colab": {
          "base_uri": "https://localhost:8080/"
        },
        "id": "gENFNOBYHTo_",
        "outputId": "1859d214-e71d-4e2d-cfed-b3bb74be0eb9"
      },
      "execution_count": null,
      "outputs": [
        {
          "output_type": "execute_result",
          "data": {
            "text/plain": [
              "tensor([0.9526, 0.1192])"
            ]
          },
          "metadata": {},
          "execution_count": 4
        }
      ]
    },
    {
      "cell_type": "code",
      "source": [],
      "metadata": {
        "id": "aodSYx4nHTrl"
      },
      "execution_count": null,
      "outputs": []
    },
    {
      "cell_type": "code",
      "source": [],
      "metadata": {
        "id": "SLkVVYjyHTuT"
      },
      "execution_count": null,
      "outputs": []
    },
    {
      "cell_type": "code",
      "source": [],
      "metadata": {
        "id": "CHCaG9dEHTwy"
      },
      "execution_count": null,
      "outputs": []
    },
    {
      "cell_type": "code",
      "source": [],
      "metadata": {
        "id": "aSwTGTvPHTzW"
      },
      "execution_count": null,
      "outputs": []
    },
    {
      "cell_type": "code",
      "source": [],
      "metadata": {
        "id": "BhWu2c5JHT1e"
      },
      "execution_count": null,
      "outputs": []
    },
    {
      "cell_type": "code",
      "source": [],
      "metadata": {
        "id": "vr_pbCx5HT4F"
      },
      "execution_count": null,
      "outputs": []
    }
  ]
}