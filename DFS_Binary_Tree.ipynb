{
  "nbformat": 4,
  "nbformat_minor": 0,
  "metadata": {
    "colab": {
      "provenance": [],
      "authorship_tag": "ABX9TyMwhwTM1RnoZ8eA1JU8BvkP",
      "include_colab_link": true
    },
    "kernelspec": {
      "name": "python3",
      "display_name": "Python 3"
    },
    "language_info": {
      "name": "python"
    }
  },
  "cells": [
    {
      "cell_type": "markdown",
      "metadata": {
        "id": "view-in-github",
        "colab_type": "text"
      },
      "source": [
        "<a href=\"https://colab.research.google.com/github/Codetomoonround/week3_oop_stack_queue/blob/main/DFS_Binary_Tree.ipynb\" target=\"_parent\"><img src=\"https://colab.research.google.com/assets/colab-badge.svg\" alt=\"Open In Colab\"/></a>"
      ]
    },
    {
      "cell_type": "code",
      "source": [
        "class Stack:\n",
        "  \"\"\"A simple implementation of a stack data structure.\"\"\"\n",
        "  \"\"\" LIFO (Last in first out).\n",
        "      Element are inserted and extracted only from ONE end\"\"\"\n",
        "\n",
        "  def __init__(self):\n",
        "    self.items = []\n",
        "\n",
        "  def push(self, item):\n",
        "    self.items.append(item)\n",
        "    print(f\"Pushed: {item}\")\n",
        "\n",
        "  def pop(self):\n",
        "    if not self.is_empty():\n",
        "      item = self.items.pop()\n",
        "      print(f\"Popped: {item}\")\n",
        "      return item\n",
        "    else:\n",
        "      print(\"Stack is empty, cannot pop.\")\n",
        "      return None\n",
        "\n",
        "  def peek(self):\n",
        "    if not self.is_empty():\n",
        "      print(f\"Peeked: {self.items[-1]}\")\n",
        "      #return self.items[-1]\n",
        "\n",
        "  def is_empty(self):\n",
        "    return len(self.items) == 0\n",
        "\n",
        "  def size(self):\n",
        "    return len(self.items)"
      ],
      "metadata": {
        "id": "Z66noP-k0eva"
      },
      "execution_count": null,
      "outputs": []
    },
    {
      "cell_type": "code",
      "source": [
        "class BinaryTree:\n",
        "  \"\"\"A simple implementation of a binary tree data structure.\"\"\"\n",
        "\n",
        "  def __init__(self, root = None):\n",
        "      self.root = root\n",
        "\n",
        "  def dfs(self):\n",
        "      if not self.root:\n",
        "       print(\"Tree is empty\")\n",
        "       return\n",
        "\n",
        "      visited = set()\n",
        "      stack = Stack()\n",
        "      stack.push(self.root)\n",
        "\n",
        "      print(f\"DFS Tranversal (Pre-Order)\")\n",
        "\n",
        "      while not stack.is_empty():\n",
        "          current = stack.pop()\n",
        "          if current.val not in visited:\n",
        "              print(current.val)\n",
        "              visited.add(current.val)\n",
        "\n",
        "          # Push right first so left (pop()) is processed first\n",
        "          if current.right:\n",
        "              stack.push(current.right)\n",
        "          if current.left:\n",
        "              stack.push(current.left)"
      ],
      "metadata": {
        "id": "Oy8w0ae90e0J"
      },
      "execution_count": null,
      "outputs": []
    },
    {
      "cell_type": "code",
      "source": [
        "class TreeNode:\n",
        "  def __init__(self, key):\n",
        "    self.val = key\n",
        "    self.left = None\n",
        "    self.right = None\n",
        "\n",
        "  def __str__(self):\n",
        "        return str(self.val)"
      ],
      "metadata": {
        "id": "nKP2-7vc0e28"
      },
      "execution_count": null,
      "outputs": []
    },
    {
      "cell_type": "code",
      "source": [
        "# EXAMPLE\n",
        "# CREATE BINARY TREE NODES\n",
        "root = TreeNode(1)\n",
        "root.left = TreeNode(2)\n",
        "root.right = TreeNode(3)\n",
        "root.left.left = TreeNode(4)\n",
        "root.left.right = TreeNode(5)\n",
        "root.right.left = TreeNode(6)\n",
        "root.right.right = TreeNode(7)\n",
        "\n",
        "# CREATE THE TREE AND PERFORM DFS\n",
        "binary_tree = BinaryTree(root)\n",
        "binary_tree.dfs()"
      ],
      "metadata": {
        "colab": {
          "base_uri": "https://localhost:8080/"
        },
        "id": "DiWHbWRws2HJ",
        "outputId": "0c095966-a549-4bbb-c08d-b3cf0997fd32"
      },
      "execution_count": null,
      "outputs": [
        {
          "output_type": "stream",
          "name": "stdout",
          "text": [
            "Pushed: 1\n",
            "DFS Tranversal (Pre-Order)\n",
            "Popped: 1\n",
            "1\n",
            "Pushed: 3\n",
            "Pushed: 2\n",
            "Popped: 2\n",
            "2\n",
            "Pushed: 5\n",
            "Pushed: 4\n",
            "Popped: 4\n",
            "4\n",
            "Popped: 5\n",
            "5\n",
            "Popped: 3\n",
            "3\n",
            "Pushed: 7\n",
            "Pushed: 6\n",
            "Popped: 6\n",
            "6\n",
            "Popped: 7\n",
            "7\n"
          ]
        }
      ]
    },
    {
      "cell_type": "code",
      "source": [],
      "metadata": {
        "id": "vobJuKLZs2P4"
      },
      "execution_count": null,
      "outputs": []
    },
    {
      "cell_type": "code",
      "source": [],
      "metadata": {
        "id": "WcVIhOTqs2R_"
      },
      "execution_count": null,
      "outputs": []
    },
    {
      "cell_type": "code",
      "source": [],
      "metadata": {
        "id": "0eRD7o-3s2Uj"
      },
      "execution_count": null,
      "outputs": []
    },
    {
      "cell_type": "code",
      "source": [
        "### EXAMPLE\n",
        "stack = Stack()\n",
        "\n",
        "# Push element\n",
        "stack.push(\"Apple\")\n",
        "stack.push(\"Cherry\")\n",
        "stack.push(\"Banana\")\n",
        "\n",
        "# Pop element\n",
        "stack.pop()\n",
        "\n",
        "# Peek element\n",
        "stack.peek()\n",
        "\n",
        "# Pop element again\n",
        "stack.pop()\n",
        "\n",
        "# Peek element again\n",
        "stack.peek()\n",
        "\n",
        "# Check size\n",
        "print(f\"Size Stack: {stack.size()}\")\n",
        "\n",
        "# Check if stack is empty\n",
        "stack.is_empty()\n",
        "\n",
        "# Pop element again again\n",
        "stack.pop()\n",
        "\n",
        "# Check if stack is empty\n",
        "stack.is_empty()"
      ],
      "metadata": {
        "colab": {
          "base_uri": "https://localhost:8080/"
        },
        "id": "56Xr2BK4s2XL",
        "outputId": "b78cacb4-4388-4c0a-c395-340836bba35d"
      },
      "execution_count": null,
      "outputs": [
        {
          "output_type": "stream",
          "name": "stdout",
          "text": [
            "Pushed: Apple\n",
            "Pushed: Cherry\n",
            "Pushed: Banana\n",
            "Popped: Banana\n",
            "Peeked: Cherry\n",
            "Popped: Cherry\n",
            "Peeked: Apple\n",
            "Size Stack: 1\n",
            "Popped: Apple\n"
          ]
        },
        {
          "output_type": "execute_result",
          "data": {
            "text/plain": [
              "True"
            ]
          },
          "metadata": {},
          "execution_count": 50
        }
      ]
    }
  ]
}