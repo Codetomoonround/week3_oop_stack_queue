{
  "nbformat": 4,
  "nbformat_minor": 0,
  "metadata": {
    "colab": {
      "provenance": [],
      "authorship_tag": "ABX9TyPAxHr3DdHpo7DmcRhGs1zl",
      "include_colab_link": true
    },
    "kernelspec": {
      "name": "python3",
      "display_name": "Python 3"
    },
    "language_info": {
      "name": "python"
    }
  },
  "cells": [
    {
      "cell_type": "markdown",
      "metadata": {
        "id": "view-in-github",
        "colab_type": "text"
      },
      "source": [
        "<a href=\"https://colab.research.google.com/github/QuangCuongStore/week3_oop_stack_queue/blob/main/Class_OOP.ipynb\" target=\"_parent\"><img src=\"https://colab.research.google.com/assets/colab-badge.svg\" alt=\"Open In Colab\"/></a>"
      ]
    },
    {
      "cell_type": "code",
      "execution_count": 80,
      "metadata": {
        "id": "k8OyH1Zo0YKe"
      },
      "outputs": [],
      "source": [
        "# class            ==> car\n",
        "# object/instance  ==> toyota, color, model car\n",
        "\n",
        "class TeamA:\n",
        "  member = 0  # class variable\n",
        "\n",
        "  ######## attribute\n",
        "\n",
        "  def __init__(self, name, age):\n",
        "      self.name = name\n",
        "      self.age = age\n",
        "      TeamA.member += 1\n",
        "\n",
        "  def getBornYear(self):\n",
        "      return 2025 - self.age"
      ]
    },
    {
      "cell_type": "code",
      "source": [
        "team1 = TeamA(\"Cuong\", 45)\n",
        "print(\"Name:\", team1.name)\n",
        "print(\"YoB:\", team1.getBornYear())\n"
      ],
      "metadata": {
        "colab": {
          "base_uri": "https://localhost:8080/"
        },
        "id": "Z2O-_rK92YyM",
        "outputId": "2c0b2a2c-135d-411c-d8f1-5d12c9290a7c"
      },
      "execution_count": 81,
      "outputs": [
        {
          "output_type": "stream",
          "name": "stdout",
          "text": [
            "Name: Cuong\n",
            "YoB: 1980\n"
          ]
        }
      ]
    },
    {
      "cell_type": "code",
      "source": [
        "team2 = TeamA(\"Duyen\", 45)\n",
        "print(\"Name:\", team2.name)\n",
        "print(\"YoB:\", team2.getBornYear())"
      ],
      "metadata": {
        "colab": {
          "base_uri": "https://localhost:8080/"
        },
        "id": "jvL-TVt02Y0-",
        "outputId": "f336550e-9027-44ee-80ed-17e6cebd082e"
      },
      "execution_count": 82,
      "outputs": [
        {
          "output_type": "stream",
          "name": "stdout",
          "text": [
            "Name: Duyen\n",
            "YoB: 1980\n"
          ]
        }
      ]
    },
    {
      "cell_type": "code",
      "source": [
        "print(TeamA.member)"
      ],
      "metadata": {
        "colab": {
          "base_uri": "https://localhost:8080/"
        },
        "id": "ay74toWI2Y3Z",
        "outputId": "4c8fd30b-ef23-4302-955c-089f9cb9cdc3"
      },
      "execution_count": 83,
      "outputs": [
        {
          "output_type": "stream",
          "name": "stdout",
          "text": [
            "2\n"
          ]
        }
      ]
    },
    {
      "cell_type": "markdown",
      "source": [
        "## method, member\n",
        "## private member\n",
        "## property, getter, setter\n",
        "## import class, function from module, file"
      ],
      "metadata": {
        "id": "FrTSE6TC5yNh"
      }
    },
    {
      "cell_type": "code",
      "source": [
        "class TeamB:\n",
        "  member = 0  # class variable\n",
        "  def __init__(self, name, age):\n",
        "      self.__name = name        # use __  for private attribute, to access must have def get and set\n",
        "      self.__age = age\n",
        "\n",
        "  def get_name(self):            # get name because use __ when define private name\n",
        "      return self.__name\n",
        "\n",
        "  def set_name(self, name):      # set name because use __ when define private name\n",
        "      self.__name = name\n",
        "\n",
        "  def get_age(self):\n",
        "      return self.__age\n",
        "\n",
        "  def set_age(self, age):\n",
        "      self.__age = age\n",
        "\n",
        "  name = property(get_name, set_name)\n",
        "  age = property(get_age, set_age)\n",
        "\n"
      ],
      "metadata": {
        "id": "PlnAkp2w2Y6M"
      },
      "execution_count": 118,
      "outputs": []
    },
    {
      "cell_type": "code",
      "source": [
        "team3 = TeamB(\"Cuong\", 45)"
      ],
      "metadata": {
        "id": "LqaQ1O7m9_Rr"
      },
      "execution_count": 107,
      "outputs": []
    },
    {
      "cell_type": "code",
      "source": [
        "# Try access private attribute to error [AttributeError: 'TeamB' object has no attribute '__name']\n",
        "                                       #[AttributeError: 'TeamB' object has no attribute 'name']\n",
        "\n",
        "print(\"Name:\", team3.name)\n",
        "print(\"YoB:\", team3.age())\n",
        "\n",
        "print(\"Name:\", team3.__name)\n",
        "print(\"YoB:\", team3.__age())\n"
      ],
      "metadata": {
        "colab": {
          "base_uri": "https://localhost:8080/",
          "height": 219
        },
        "id": "k_waVBJD2Y8w",
        "outputId": "718cc651-8eb6-47e5-bf6b-bb58519b2570"
      },
      "execution_count": 86,
      "outputs": [
        {
          "output_type": "error",
          "ename": "AttributeError",
          "evalue": "'TeamB' object has no attribute 'name'",
          "traceback": [
            "\u001b[0;31m---------------------------------------------------------------------------\u001b[0m",
            "\u001b[0;31mAttributeError\u001b[0m                            Traceback (most recent call last)",
            "\u001b[0;32m/tmp/ipython-input-86-4038538803.py\u001b[0m in \u001b[0;36m<cell line: 0>\u001b[0;34m()\u001b[0m\n\u001b[1;32m      2\u001b[0m                                        \u001b[0;31m#[AttributeError: 'TeamB' object has no attribute 'name']\u001b[0m\u001b[0;34m\u001b[0m\u001b[0;34m\u001b[0m\u001b[0m\n\u001b[1;32m      3\u001b[0m \u001b[0;34m\u001b[0m\u001b[0m\n\u001b[0;32m----> 4\u001b[0;31m \u001b[0mprint\u001b[0m\u001b[0;34m(\u001b[0m\u001b[0;34m\"Name:\"\u001b[0m\u001b[0;34m,\u001b[0m \u001b[0mteam3\u001b[0m\u001b[0;34m.\u001b[0m\u001b[0mname\u001b[0m\u001b[0;34m)\u001b[0m\u001b[0;34m\u001b[0m\u001b[0;34m\u001b[0m\u001b[0m\n\u001b[0m\u001b[1;32m      5\u001b[0m \u001b[0mprint\u001b[0m\u001b[0;34m(\u001b[0m\u001b[0;34m\"YoB:\"\u001b[0m\u001b[0;34m,\u001b[0m \u001b[0mteam3\u001b[0m\u001b[0;34m.\u001b[0m\u001b[0mage\u001b[0m\u001b[0;34m(\u001b[0m\u001b[0;34m)\u001b[0m\u001b[0;34m)\u001b[0m\u001b[0;34m\u001b[0m\u001b[0;34m\u001b[0m\u001b[0m\n\u001b[1;32m      6\u001b[0m \u001b[0;34m\u001b[0m\u001b[0m\n",
            "\u001b[0;31mAttributeError\u001b[0m: 'TeamB' object has no attribute 'name'"
          ]
        }
      ]
    },
    {
      "cell_type": "code",
      "source": [
        "# Use get_name, get_age to access private attribute object\n",
        "print(\"Name:\", team3.get_name())\n",
        "print(\"YoB:\", team3.get_age())"
      ],
      "metadata": {
        "colab": {
          "base_uri": "https://localhost:8080/"
        },
        "id": "NuG-eenL9Hpv",
        "outputId": "63b30c1f-e86a-4333-a44f-4882d98be709"
      },
      "execution_count": 87,
      "outputs": [
        {
          "output_type": "stream",
          "name": "stdout",
          "text": [
            "Name: Cuong\n",
            "YoB: 45\n"
          ]
        }
      ]
    },
    {
      "cell_type": "code",
      "source": [
        "# Use set_name, set_age to set private attribute object\n",
        "print(\"Name:\", team3.set_name(\"Duyen\"))\n",
        "print(\"YoB:\", team3.set_age(45))"
      ],
      "metadata": {
        "colab": {
          "base_uri": "https://localhost:8080/"
        },
        "id": "5-tZhGsd9HsW",
        "outputId": "7d2b3628-ea1b-47af-be1e-f88125fd9892"
      },
      "execution_count": 88,
      "outputs": [
        {
          "output_type": "stream",
          "name": "stdout",
          "text": [
            "Name: None\n",
            "YoB: None\n"
          ]
        }
      ]
    },
    {
      "cell_type": "code",
      "source": [
        "print(\"Name:\", team3.get_name())\n",
        "print(\"YoB:\", team3.get_age())"
      ],
      "metadata": {
        "colab": {
          "base_uri": "https://localhost:8080/"
        },
        "id": "5OM_aE559Hu-",
        "outputId": "5b282000-bb5e-4c52-b945-92468fc2b217"
      },
      "execution_count": 89,
      "outputs": [
        {
          "output_type": "stream",
          "name": "stdout",
          "text": [
            "Name: Duyen\n",
            "YoB: 45\n"
          ]
        }
      ]
    },
    {
      "cell_type": "code",
      "source": [
        "# Add attribute to class at moment (class: TeamB)\n",
        "TeamB.address = \"Dong Thap quetoi\""
      ],
      "metadata": {
        "id": "ByLkNuYs9Hxy"
      },
      "execution_count": 100,
      "outputs": []
    },
    {
      "cell_type": "code",
      "source": [
        "# test\n",
        "print(team3.address)"
      ],
      "metadata": {
        "colab": {
          "base_uri": "https://localhost:8080/"
        },
        "id": "XcUO79LZ9H0l",
        "outputId": "4dbfbffd-aabe-4ecb-8634-ce10f83076ac"
      },
      "execution_count": 101,
      "outputs": [
        {
          "output_type": "stream",
          "name": "stdout",
          "text": [
            "Dong Thap quetoi\n"
          ]
        }
      ]
    },
    {
      "cell_type": "code",
      "source": [
        "# define get_address out of class TeamB, after that add define into class TeamB\n",
        "def get_address(self):\n",
        "    return self.address\n",
        "TeamB.get_address = get_address\n"
      ],
      "metadata": {
        "id": "yjNIMo8zCpCc"
      },
      "execution_count": 102,
      "outputs": []
    },
    {
      "cell_type": "code",
      "source": [
        "team3.get_address()"
      ],
      "metadata": {
        "colab": {
          "base_uri": "https://localhost:8080/",
          "height": 36
        },
        "id": "HpXS_OjLCpKq",
        "outputId": "abfa9d2b-3109-432b-af4a-93def62c32df"
      },
      "execution_count": 103,
      "outputs": [
        {
          "output_type": "execute_result",
          "data": {
            "text/plain": [
              "'Dong Thap quetoi'"
            ],
            "application/vnd.google.colaboratory.intrinsic+json": {
              "type": "string"
            }
          },
          "metadata": {},
          "execution_count": 103
        }
      ]
    },
    {
      "cell_type": "markdown",
      "source": [
        "## Everytime you use get_name, get_age,... takes along time so we can use \"property\" instead of that\n",
        "\n",
        "```\n",
        "# Now comeback write method for property in class TeamB\n",
        "```\n",
        "\n"
      ],
      "metadata": {
        "id": "j6XW8Us2EuGD"
      }
    },
    {
      "cell_type": "code",
      "source": [
        "# Now we update database\n",
        "team3.name = \"Duyen\"\n",
        "print(\"name:\", team3.name)\n",
        "team3.age = 45\n",
        "print(\"Age:\", team3.age)"
      ],
      "metadata": {
        "colab": {
          "base_uri": "https://localhost:8080/"
        },
        "id": "qS2-mJTKCpNQ",
        "outputId": "182eb5d7-0b3b-4605-e816-020d165b3e67"
      },
      "execution_count": 119,
      "outputs": [
        {
          "output_type": "stream",
          "name": "stdout",
          "text": [
            "name: Duyen\n",
            "Age: 45\n"
          ]
        }
      ]
    },
    {
      "cell_type": "markdown",
      "source": [
        "## To import class, function from module, file, now we go to VSCode or PyCharm to write a file main.py to do that....\n",
        "## 1. Create a file name: team.py have code built class with name class is name module you need import example class TeamB. have attribute, method, variable,..\n",
        "## 2. Create a file name: main.py with code below...\n",
        "\n",
        "```\n",
        "from team import TeamB\n",
        "\n",
        "if __name__ == \"__main__\":\n",
        "    \"\"\" write code here\n",
        "\n",
        "    team1 = TeamB(\"DUYEN\", 45)\n",
        "    print(team1.name, team1.age)\n",
        "    .\n",
        "    .\n",
        "    .\"\"\n",
        "```\n",
        "Or\n",
        "\n",
        "```\n",
        "import team\n",
        "\n",
        "if __name__ == \"__main__\":\n",
        "    \"\"\" write code here\n",
        "\n",
        "    team1 = team.TeamB(\"CUONG\", 45)\n",
        "    print(team1.name, team1.age)\n",
        "    .\n",
        "    .\n",
        "    .\"\"\"\n",
        "```\n",
        "if we use \"import team\", it mean module \"team\" have a lot of class separate will be added in main file\n",
        "#  3. Go terminal run: python main.py we will have result!!!\n"
      ],
      "metadata": {
        "id": "BCK_R3iIIBVH"
      }
    },
    {
      "cell_type": "code",
      "source": [],
      "metadata": {
        "id": "rJq3VdSHCpP4"
      },
      "execution_count": null,
      "outputs": []
    },
    {
      "cell_type": "code",
      "source": [],
      "metadata": {
        "id": "orsLWJHTCpSh"
      },
      "execution_count": null,
      "outputs": []
    },
    {
      "cell_type": "code",
      "source": [],
      "metadata": {
        "id": "i8SaljHzCpVY"
      },
      "execution_count": null,
      "outputs": []
    }
  ]
}